{
  "cells": [
    {
      "cell_type": "code",
      "execution_count": 1,
      "source": [
        "import (\n",
        "\t\"fmt\"\n",
        "\t\"time\"\n",
        "\t\n",
        "//\t\"github.com/psydvl/goltools/progressbar\"\n",
        "//\t\"github.com/psydvl/goltools\"\n",
        "// Problems with third-party libs in \"gophernotes\"\n",
        "// Seems, need deeper preparation \n",
        "// https://github.com/gopherdata/gophernotes/issues/184 \n",
        ")\n",
        "\n",
        "var imported time.Time = time.Now()"
      ],
      "outputs": [],
      "metadata": {
        "execution": {
          "iopub.status.busy": "2021-07-25T01:19:27.329Z",
          "iopub.execute_input": "2021-07-25T01:19:27.334Z",
          "shell.execute_reply": "2021-07-25T01:19:27.307Z",
          "iopub.status.idle": "2021-07-25T01:19:27.341Z"
        }
      }
    },
    {
      "cell_type": "code",
      "execution_count": 3,
      "source": [
        "var duration time.Duration = time.Since(imported).Round(time.Second)\n",
        "out, err := fmt.Printf(\"Time since imports: %v\\n\",\n",
        "\tduration,\n",
        ")"
      ],
      "outputs": [
        {
          "output_type": "stream",
          "name": "stdout",
          "text": [
            "Time since imports: 5s\n"
          ]
        }
      ],
      "metadata": {
        "execution": {
          "iopub.status.busy": "2021-07-25T01:19:33.759Z",
          "iopub.execute_input": "2021-07-25T01:19:33.765Z",
          "iopub.status.idle": "2021-07-25T01:19:33.775Z",
          "shell.execute_reply": "2021-07-25T01:19:33.780Z"
        }
      }
    }
  ],
  "metadata": {
    "orig_nbformat": 4,
    "language_info": {
      "name": "go",
      "version": "go1.16.6",
      "mimetype": "",
      "file_extension": ".go",
      "pygments_lexer": "",
      "codemirror_mode": "",
      "nbconvert_exporter": ""
    },
    "kernelspec": {
      "name": "go",
      "display_name": "Go",
      "language": "go"
    },
    "nteract": {
      "version": "0.28.0"
    }
  },
  "nbformat": 4,
  "nbformat_minor": 2
}